{
 "cells": [
  {
   "cell_type": "markdown",
   "metadata": {
    "id": "A7ECD7E2EBF047A283DBADDCA0BB55E1"
   },
   "source": [
    "# Simple Weblog Analytics - The Batch Way\n",
    "In this notebook, we are going to quickly visit a batch process of a series of weblog files to obtain the top trending pages per day."
   ]
  },
  {
   "cell_type": "code",
   "execution_count": 1,
   "metadata": {
    "id": "4D776A6E557446488681874D1D710705",
    "input_collapsed": false
   },
   "outputs": [
    {
     "data": {
      "text/plain": [
       "Intitializing Scala interpreter ..."
      ]
     },
     "metadata": {},
     "output_type": "display_data"
    },
    {
     "data": {
      "text/plain": [
       "Spark Web UI available at http://ubuntu20ldi1:4040\n",
       "SparkContext available as 'sc' (version = 3.2.2, master = local[*], app id = local-1663166208250)\n",
       "SparkSession available as 'spark'\n"
      ]
     },
     "metadata": {},
     "output_type": "display_data"
    },
    {
     "data": {
      "text/plain": [
       "logsDirectory: String = /home/ldi/nasa_dataset_july_1995\n",
       "rawLogs: org.apache.spark.sql.DataFrame = [bytes: bigint, host: string ... 3 more fields]\n"
      ]
     },
     "execution_count": 1,
     "metadata": {},
     "output_type": "execute_result"
    }
   ],
   "source": [
    "// This is the location of the unpackaged files. Update accordingly\n",
    "// You can unpack the provided dataset with:\n",
    "// tar xvf datasets/NASA-weblogs/nasa_dataset_july_1995.tgz -C /tmp/data/\n",
    "val logsDirectory = \"/home/ldi/nasa_dataset_july_1995\"\n",
    "val rawLogs = spark.read.json(logsDirectory)"
   ]
  },
  {
   "cell_type": "markdown",
   "metadata": {
    "id": "A60148A17B904A72A421640BB8E87474"
   },
   "source": [
    "## We define a schema for the data in the logs\n",
    "Following the formal description of the dataset (at: [NASA-HTTP](http://ita.ee.lbl.gov/html/contrib/NASA-HTTP.html) ), the log is structured as follows:\n",
    "\n",
    ">The logs are an ASCII file with one line per request, with the following columns:\n",
    "- host making the request. A hostname when possible, otherwise the Internet address if the name could not be looked up.\n",
    "- timestamp in the format \"DAY MON DD HH:MM:SS YYYY\", where DAY is the day of the week, MON is the name of the month, DD is the day of the month, HH:MM:SS is the time of day using a 24-hour clock, and YYYY is the year. The timezone is -0400.\n",
    "- request given in quotes.\n",
    "- HTTP reply code.\n",
    "- bytes in the reply.\n",
    "\n",
    "The dataset provided for this exercise offers this data in JSON format"
   ]
  },
  {
   "cell_type": "code",
   "execution_count": 2,
   "metadata": {
    "id": "82F9E2879A1747EF8CC36B5E5D64E701",
    "input_collapsed": false
   },
   "outputs": [
    {
     "data": {
      "text/plain": [
       "import java.sql.Timestamp\n",
       "defined class WebLog\n"
      ]
     },
     "execution_count": 2,
     "metadata": {},
     "output_type": "execute_result"
    }
   ],
   "source": [
    "import java.sql.Timestamp\n",
    "case class WebLog(host:String, \n",
    "                  timestamp: String, \n",
    "                  request: String, \n",
    "                  http_reply:Int, \n",
    "                  bytes: Long\n",
    "                 )"
   ]
  },
  {
   "cell_type": "markdown",
   "metadata": {
    "id": "CB0651C3AB3747EF9CB38477A6E59201"
   },
   "source": [
    "## We convert the raw data to structured logs"
   ]
  },
  {
   "cell_type": "code",
   "execution_count": 3,
   "metadata": {
    "id": "7AF0F566B58C49F195A3D1E4990BA3E6",
    "input_collapsed": false
   },
   "outputs": [
    {
     "data": {
      "text/plain": [
       "import java.time.ZonedDateTime\n",
       "import java.time.format.DateTimeFormatter\n",
       "import java.sql.Timestamp\n",
       "import org.apache.spark.sql.functions._\n",
       "import org.apache.spark.sql.types.IntegerType\n",
       "preparedLogs: org.apache.spark.sql.DataFrame = [bytes: bigint, host: string ... 3 more fields]\n"
      ]
     },
     "execution_count": 3,
     "metadata": {},
     "output_type": "execute_result"
    }
   ],
   "source": [
    "import java.time.ZonedDateTime\n",
    "import java.time.format.DateTimeFormatter\n",
    "import java.sql.Timestamp\n",
    "import org.apache.spark.sql.functions._\n",
    "import org.apache.spark.sql.types.IntegerType\n",
    "val preparedLogs = rawLogs.withColumn(\"http_reply\", $\"http_reply\".cast(IntegerType))\n"
   ]
  },
  {
   "cell_type": "code",
   "execution_count": 4,
   "metadata": {
    "id": "833438CD8CA1471181AC509553B749C2",
    "input_collapsed": false
   },
   "outputs": [
    {
     "name": "stdout",
     "output_type": "stream",
     "text": [
      "+-------+----------------+----------+--------------------+--------------------+\n",
      "|  bytes|            host|http_reply|             request|           timestamp|\n",
      "+-------+----------------+----------+--------------------+--------------------+\n",
      "|      0| nntp1.reach.com|       304|GET /images/NASA-...|1995-07-13T00:00:...|\n",
      "|  32252|webgate1.mot.com|       200|GET /shuttle/tech...|1995-07-13T00:00:...|\n",
      "|    751|webgate1.mot.com|       200|GET /htbin/cdt_cl...|1995-07-13T00:00:...|\n",
      "|1121554|  204.157.128.52|       200|GET /shuttle/miss...|1995-07-13T00:00:...|\n",
      "|      0| nntp1.reach.com|       304|GET /images/KSC-l...|1995-07-13T00:00:...|\n",
      "+-------+----------------+----------+--------------------+--------------------+\n",
      "only showing top 5 rows\n",
      "\n"
     ]
    },
    {
     "data": {
      "text/plain": [
       "res0: String =\n",
       "\"root\n",
       " |-- bytes: long (nullable = true)\n",
       " |-- host: string (nullable = true)\n",
       " |-- http_reply: integer (nullable = true)\n",
       " |-- request: string (nullable = true)\n",
       " |-- timestamp: string (nullable = true)\n",
       "\"\n"
      ]
     },
     "execution_count": 4,
     "metadata": {},
     "output_type": "execute_result"
    }
   ],
   "source": [
    "preparedLogs.show(5)\n",
    "preparedLogs.schema.treeString"
   ]
  },
  {
   "cell_type": "code",
   "execution_count": 5,
   "metadata": {},
   "outputs": [
    {
     "data": {
      "text/plain": [
       "weblogs: org.apache.spark.sql.Dataset[WebLog] = [bytes: bigint, host: string ... 3 more fields]\n",
       "res1: String =\n",
       "\"root\n",
       " |-- bytes: long (nullable = true)\n",
       " |-- host: string (nullable = true)\n",
       " |-- http_reply: integer (nullable = true)\n",
       " |-- request: string (nullable = true)\n",
       " |-- timestamp: string (nullable = true)\n",
       "\"\n"
      ]
     },
     "execution_count": 5,
     "metadata": {},
     "output_type": "execute_result"
    }
   ],
   "source": [
    "val weblogs = preparedLogs.as[WebLog] //convert DF preparedLogs to a dataset of given type (Weblog)\n",
    "weblogs.schema.treeString"
   ]
  },
  {
   "cell_type": "markdown",
   "metadata": {
    "collapsed": true,
    "id": "9313FDE7CE7548B180AE2A47CDBED56E",
    "input_collapsed": false
   },
   "source": [
    "## Now, we have the data in a structured format and we can start asking the questions that interest us.\n",
    "We have imported the data and transformed it using a known schema.  We can use this 'structured' data to create queries that provide insights in the behavior of the users. "
   ]
  },
  {
   "cell_type": "markdown",
   "metadata": {
    "id": "144FB0F8C3AE42328435A2A8F3C150AB"
   },
   "source": [
    "### As a first step, we would like to know how many records are contained in our dataset."
   ]
  },
  {
   "cell_type": "code",
   "execution_count": 6,
   "metadata": {
    "id": "FBE9E30417204C9D83E8F1FE65AB6471",
    "input_collapsed": false
   },
   "outputs": [
    {
     "data": {
      "text/plain": [
       "recordCount: Long = 1871988\n"
      ]
     },
     "execution_count": 6,
     "metadata": {},
     "output_type": "execute_result"
    }
   ],
   "source": [
    "val recordCount = weblogs.count"
   ]
  },
  {
   "cell_type": "markdown",
   "metadata": {
    "id": "BEA0D41E58324A479D2B91093864E6C7"
   },
   "source": [
    "### A common question would be, what was the most popular URL per day?\n",
    "We first reduce the timestamp to the day of the year. We then group by this new 'day of year' column and the request url and we count over this aggregate. We finally order using descending order to get this top URLs first."
   ]
  },
  {
   "cell_type": "code",
   "execution_count": 7,
   "metadata": {},
   "outputs": [
    {
     "name": "stdout",
     "output_type": "stream",
     "text": [
      "+-------+----------------+----------+--------------------+--------------------+----------+\n",
      "|  bytes|            host|http_reply|             request|           timestamp|dayOfMonth|\n",
      "+-------+----------------+----------+--------------------+--------------------+----------+\n",
      "|      0| nntp1.reach.com|       304|GET /images/NASA-...|1995-07-13T00:00:...|        13|\n",
      "|  32252|webgate1.mot.com|       200|GET /shuttle/tech...|1995-07-13T00:00:...|        13|\n",
      "|    751|webgate1.mot.com|       200|GET /htbin/cdt_cl...|1995-07-13T00:00:...|        13|\n",
      "|1121554|  204.157.128.52|       200|GET /shuttle/miss...|1995-07-13T00:00:...|        13|\n",
      "|      0| nntp1.reach.com|       304|GET /images/KSC-l...|1995-07-13T00:00:...|        13|\n",
      "+-------+----------------+----------+--------------------+--------------------+----------+\n",
      "only showing top 5 rows\n",
      "\n"
     ]
    },
    {
     "data": {
      "text/plain": [
       "topDailyURLsStep1: org.apache.spark.sql.DataFrame = [bytes: bigint, host: string ... 4 more fields]\n"
      ]
     },
     "execution_count": 7,
     "metadata": {},
     "output_type": "execute_result"
    }
   ],
   "source": [
    "val topDailyURLsStep1 = weblogs.withColumn(\"dayOfMonth\", dayofmonth($\"timestamp\"))\n",
    "topDailyURLsStep1.show(5)"
   ]
  },
  {
   "cell_type": "code",
   "execution_count": 8,
   "metadata": {},
   "outputs": [
    {
     "name": "stdout",
     "output_type": "stream",
     "text": [
      "+----------+--------------------+-----+\n",
      "|dayOfMonth|             request|count|\n",
      "+----------+--------------------+-----+\n",
      "|        13|GET /icons/sound....|   98|\n",
      "|        13|GET /cgi-bin/imag...|    2|\n",
      "|        13|GET /cgi-bin/imag...|    2|\n",
      "|        13|GET /htbin/wais.p...|   14|\n",
      "|        13|GET /statistics/1...|    1|\n",
      "+----------+--------------------+-----+\n",
      "only showing top 5 rows\n",
      "\n"
     ]
    },
    {
     "data": {
      "text/plain": [
       "topDailyURLsStep2: org.apache.spark.sql.DataFrame = [dayOfMonth: int, request: string ... 1 more field]\n"
      ]
     },
     "execution_count": 8,
     "metadata": {},
     "output_type": "execute_result"
    }
   ],
   "source": [
    "val topDailyURLsStep2 = topDailyURLsStep1\n",
    "    .select($\"request\",$\"dayOfMonth\")\n",
    "    .groupBy($\"dayOfMonth\", $\"request\")\n",
    "    .agg(count($\"request\").alias(\"count\"))\n",
    "topDailyURLsStep2.show(5)"
   ]
  },
  {
   "cell_type": "code",
   "execution_count": 9,
   "metadata": {
    "id": "B65C7756F4EA47388884AB0DC4619CE8",
    "input_collapsed": false
   },
   "outputs": [
    {
     "data": {
      "text/plain": [
       "topDailyURLs: org.apache.spark.sql.Dataset[org.apache.spark.sql.Row] = [dayOfMonth: int, request: string ... 1 more field]\n"
      ]
     },
     "execution_count": 9,
     "metadata": {},
     "output_type": "execute_result"
    }
   ],
   "source": [
    "val topDailyURLs = weblogs.withColumn(\"dayOfMonth\", dayofmonth($\"timestamp\"))\n",
    "                          .select($\"request\", $\"dayOfMonth\")\n",
    "                          .groupBy($\"dayOfMonth\", $\"request\")\n",
    "                          .agg(count($\"request\").alias(\"count\"))\n",
    "                          .orderBy(desc(\"count\"))"
   ]
  },
  {
   "cell_type": "code",
   "execution_count": 10,
   "metadata": {
    "id": "F1CB4530E62149F08D39256D53BA1C07",
    "input_collapsed": false,
    "presentation": {
     "pivot_chart_state": "{\n  \"hiddenAttributes\": [],\n  \"menuLimit\": 200,\n  \"cols\": [],\n  \"rows\": [],\n  \"vals\": [],\n  \"exclusions\": {},\n  \"inclusions\": {},\n  \"unusedAttrsVertical\": 85,\n  \"autoSortUnusedAttrs\": false,\n  \"inclusionsInfo\": {},\n  \"aggregatorName\": \"Count\",\n  \"rendererName\": \"Table\"\n}",
     "tabs_state": "{\n  \"tab_id\": \"#tab2096092733-0\"\n}"
    }
   },
   "outputs": [
    {
     "data": {
      "text/plain": [
       "res4: Array[org.apache.spark.sql.Row] = Array([13,GET /images/NASA-logosmall.gif HTTP/1.0,12476], [13,GET /htbin/cdt_main.pl HTTP/1.0,7471], [12,GET /images/NASA-logosmall.gif HTTP/1.0,7143], [13,GET /htbin/cdt_clock.pl HTTP/1.0,6237], [6,GET /images/NASA-logosmall.gif HTTP/1.0,6112], [5,GET /images/NASA-logosmall.gif HTTP/1.0,5865], [13,GET /images/KSC-logosmall.gif HTTP/1.0,5662], [7,GET /images/NASA-logosmall.gif HTTP/1.0,5651], [3,GET /images/NASA-logosmall.gif HTTP/1.0,5356], [6,GET /images/KSC-logosmall.gif HTTP/1.0,5126])\n"
      ]
     },
     "execution_count": 10,
     "metadata": {},
     "output_type": "execute_result"
    }
   ],
   "source": [
    "topDailyURLs.take(10)\n"
   ]
  },
  {
   "cell_type": "code",
   "execution_count": 16,
   "metadata": {},
   "outputs": [
    {
     "name": "stdout",
     "output_type": "stream",
     "text": [
      "+----------+--------------------+-----+\n",
      "|dayOfMonth|             request|count|\n",
      "+----------+--------------------+-----+\n",
      "|        13|GET /images/NASA-...|12476|\n",
      "|        13|GET /htbin/cdt_ma...| 7471|\n",
      "|        12|GET /images/NASA-...| 7143|\n",
      "|        13|GET /htbin/cdt_cl...| 6237|\n",
      "|         6|GET /images/NASA-...| 6112|\n",
      "|         5|GET /images/NASA-...| 5865|\n",
      "|        13|GET /images/KSC-l...| 5662|\n",
      "|         7|GET /images/NASA-...| 5651|\n",
      "|         3|GET /images/NASA-...| 5356|\n",
      "|         6|GET /images/KSC-l...| 5126|\n",
      "+----------+--------------------+-----+\n",
      "only showing top 10 rows\n",
      "\n"
     ]
    }
   ],
   "source": [
    "topDailyURLs.show(10) //show allows better table view."
   ]
  },
  {
   "cell_type": "markdown",
   "metadata": {
    "id": "4F7AB40ADF1D4EFF9166CDB63A0DC77E"
   },
   "source": [
    "### Top hits are all images. What now?\n",
    "It's not unusual to see that the top URLs are images commonly used across a site.\n",
    "\n",
    "Our true interest lies in the content pages generating most traffic. To find those, we first filter on `html` content \n",
    "and then proceed to apply the top aggregation we just learned.\n",
    "\n",
    "The request field is a quoted sequence of `[HTTP_VERB] URL [HTTP_VERSION]`. We will extract the url and preserve only those ending in `.html`, `.htm` or no extension (directories). This is a simplification for the purpose of the exercise. "
   ]
  },
  {
   "cell_type": "code",
   "execution_count": 11,
   "metadata": {
    "id": "7191956637C34DF28D24D2947E6999A8",
    "input_collapsed": false
   },
   "outputs": [
    {
     "data": {
      "text/plain": [
       "urlExtractor: scala.util.matching.Regex = ^GET (.+) HTTP/\\d.\\d\n",
       "allowedExtensions: scala.collection.immutable.Set[String] = Set(.html, .htm, \"\")\n",
       "contentPageLogs: org.apache.spark.sql.Dataset[WebLog] = [bytes: bigint, host: string ... 3 more fields]\n"
      ]
     },
     "execution_count": 11,
     "metadata": {},
     "output_type": "execute_result"
    }
   ],
   "source": [
    "val urlExtractor = \"\"\"^GET (.+) HTTP/\\d.\\d\"\"\".r\n",
    "val allowedExtensions = Set(\".html\",\".htm\", \"\")\n",
    "val contentPageLogs = weblogs.filter {log => \n",
    "  log.request match {                                        \n",
    "    case urlExtractor(url) => \n",
    "      val ext = url.takeRight(5).dropWhile(c => c != '.')\n",
    "      allowedExtensions.contains(ext)\n",
    "    case _ => false \n",
    "  }\n",
    "}\n",
    "                                      "
   ]
  },
  {
   "cell_type": "code",
   "execution_count": 12,
   "metadata": {
    "id": "844604F254BF4450B2D60F09A766C444",
    "input_collapsed": false,
    "presentation": {
     "pivot_chart_state": "{\n  \"hiddenAttributes\": [],\n  \"menuLimit\": 200,\n  \"cols\": [],\n  \"rows\": [],\n  \"vals\": [],\n  \"exclusions\": {},\n  \"inclusions\": {},\n  \"unusedAttrsVertical\": 85,\n  \"autoSortUnusedAttrs\": false,\n  \"inclusionsInfo\": {},\n  \"aggregatorName\": \"Count\",\n  \"rendererName\": \"Table\"\n}",
     "tabs_state": "{\n  \"tab_id\": \"#tab1029193174-0\"\n}"
    }
   },
   "outputs": [
    {
     "data": {
      "text/plain": [
       "topContentPages: org.apache.spark.sql.Dataset[org.apache.spark.sql.Row] = [dayOfMonth: int, request: string ... 1 more field]\n"
      ]
     },
     "execution_count": 12,
     "metadata": {},
     "output_type": "execute_result"
    }
   ],
   "source": [
    "val topContentPages = contentPageLogs.withColumn(\"dayOfMonth\", dayofmonth($\"timestamp\"))\n",
    "                          .select($\"request\", $\"dayOfMonth\")\n",
    "                          .groupBy($\"dayOfMonth\", $\"request\")\n",
    "                          .agg(count($\"request\").alias(\"count\"))\n",
    "                          .orderBy(desc(\"count\"))"
   ]
  },
  {
   "cell_type": "code",
   "execution_count": 13,
   "metadata": {
    "id": "392A9C52AEC34D9F8EF709F5B407F0E1",
    "input_collapsed": false
   },
   "outputs": [
    {
     "data": {
      "text/plain": [
       "res5: org.apache.spark.sql.Dataset[org.apache.spark.sql.Row] = [dayOfMonth: int, request: string ... 1 more field]\n"
      ]
     },
     "execution_count": 13,
     "metadata": {},
     "output_type": "execute_result"
    }
   ],
   "source": [
    "topContentPages"
   ]
  },
  {
   "cell_type": "markdown",
   "metadata": {
    "id": "995C97DC2E9F4DBA95A832588B147843"
   },
   "source": [
    "We can see that the most popular page that month was `liftoff.html ` corresponding to the coverage of the launch of the Discovery shuttle, as documented on the NASA archives: https://www.nasa.gov/mission_pages/shuttle/shuttlemissions/archives/sts-70.html.\n",
    "\n",
    "It's closely followed by `countdown/` the days prior ot the launch."
   ]
  },
  {
   "cell_type": "code",
   "execution_count": null,
   "metadata": {
    "id": "8DBF5B380B654300B6064149A1B63ABC",
    "input_collapsed": false
   },
   "outputs": [],
   "source": []
  }
 ],
 "metadata": {
  "auto_save_timestamp": "1970-01-01T01:00:00.000Z",
  "customArgs": null,
  "customDeps": null,
  "customImports": null,
  "customLocalRepo": null,
  "customRepos": null,
  "customSparkConf": null,
  "customVars": null,
  "id": "c8749075-25ae-48aa-a102-495a26a92d54",
  "kernelspec": {
   "display_name": "spylon-kernel",
   "language": "scala",
   "name": "spylon-kernel"
  },
  "language_info": {
   "codemirror_mode": "text/x-scala",
   "file_extension": ".scala",
   "help_links": [
    {
     "text": "MetaKernel Magics",
     "url": "https://metakernel.readthedocs.io/en/latest/source/README.html"
    }
   ],
   "mimetype": "text/x-scala",
   "name": "scala",
   "pygments_lexer": "scala",
   "version": "0.4.1"
  },
  "name": "batch_weblogs",
  "sparkNotebook": null,
  "trusted": true,
  "user_save_timestamp": "1970-01-01T01:00:00.000Z"
 },
 "nbformat": 4,
 "nbformat_minor": 1
}
